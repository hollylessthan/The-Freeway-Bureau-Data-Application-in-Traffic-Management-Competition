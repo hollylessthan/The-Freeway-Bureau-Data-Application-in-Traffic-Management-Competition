{
  "nbformat": 4,
  "nbformat_minor": 0,
  "metadata": {
    "colab": {
      "name": "A1A2 accident_environmental_factor.ipynb",
      "provenance": [],
      "collapsed_sections": []
    },
    "kernelspec": {
      "name": "python3",
      "display_name": "Python 3"
    }
  },
  "cells": [
    {
      "cell_type": "code",
      "metadata": {
        "id": "218lZ2quq33k",
        "colab_type": "code",
        "outputId": "2f0b6116-4bb6-4dbb-f109-d415dc22362c",
        "colab": {
          "base_uri": "https://localhost:8080/",
          "height": 122
        }
      },
      "source": [
        "from google.colab import drive\n",
        "drive.mount('/content/drive')\n",
        "mydrive =\"/content/drive/My Drive/Colab Notebooks/\""
      ],
      "execution_count": 0,
      "outputs": [
        {
          "output_type": "stream",
          "text": [
            "Go to this URL in a browser: https://accounts.google.com/o/oauth2/auth?client_id=947318989803-6bn6qk8qdgf4n4g3pfee6491hc0brc4i.apps.googleusercontent.com&redirect_uri=urn%3Aietf%3Awg%3Aoauth%3A2.0%3Aoob&scope=email%20https%3A%2F%2Fwww.googleapis.com%2Fauth%2Fdocs.test%20https%3A%2F%2Fwww.googleapis.com%2Fauth%2Fdrive%20https%3A%2F%2Fwww.googleapis.com%2Fauth%2Fdrive.photos.readonly%20https%3A%2F%2Fwww.googleapis.com%2Fauth%2Fpeopleapi.readonly&response_type=code\n",
            "\n",
            "Enter your authorization code:\n",
            "··········\n",
            "Mounted at /content/drive\n"
          ],
          "name": "stdout"
        }
      ]
    },
    {
      "cell_type": "code",
      "metadata": {
        "id": "1WZTzLAyrUED",
        "colab_type": "code",
        "outputId": "6dd7b3cd-938a-4e90-cdbd-6c550afd016d",
        "colab": {
          "base_uri": "https://localhost:8080/",
          "height": 1000
        }
      },
      "source": [
        "import scipy.stats as ss\n",
        "from collections import Counter\n",
        "import math \n",
        "import pandas as pd\n",
        "import numpy as np\n",
        "import seaborn as sns\n",
        "from matplotlib import pyplot as plt\n",
        "from scipy import stats\n",
        "import numpy as np\n",
        "\n",
        "df = pd.read_csv('/content/drive/My Drive/Colab Notebooks/normal_data_sum.csv')\n",
        "\n",
        "df1 = pd.read_csv('/content/drive/My Drive/Colab Notebooks/A1A2Table1.csv')\n",
        "#trafficcols = ['acc_data',\tacc_time_hour\tacc_time_min\thighway_name\thighway_km\thighway_m\tdirection\tacc_type\tacc_cause\tpre_door\t\"post_door\"\tsum(pre_1)\tsum(pre_2)\tsum(post_1)\tsum(post_2)\tSpeed]\n",
        "#catcols = ['Preferred Foot','Position','Body Type','Nationality','Weak Foot']\n",
        "print(df.head())\n",
        "print(df1.head())\n",
        "\n",
        "df3= pd.merge(df,df1,on = ['日期', '時', '分', '公路', '公里', '公尺', '事故類型及型態', '主要肇事因素'],how='left')\n",
        "#print(df3)\n",
        "#print(df3[[\"acc_data\" , \"日期\"]])\n",
        "\n",
        "numcols = ['前車量1', '後車量1','速度','單位前車量1', '單位後車量1','時','公里','天候','光線', '道路類別','速限', '道路型態', '事故位置', '路面鋪裝','路面狀態','路面缺陷','障礙物','視距','號誌種類', '號誌動作','分向設施','分道設施-快車道間','主要肇事因素','分道設施-快慢車道間','分道設施-路面邊線']\n",
        "catcols = ['車道位置']\n",
        "\n",
        "df3= df3[numcols+catcols]\n",
        "traindf = pd.concat([df3[numcols], pd.get_dummies(df3[catcols])],axis=1)\n",
        "features = traindf.columns\n",
        "\n",
        "traindf = traindf.dropna()\n",
        "traindf = pd.DataFrame(traindf,columns=features)\n",
        "#print(traindf)\n",
        "\n",
        "\n",
        "\n",
        "#y = traindf['主要肇事因素'] != 0\n",
        "y = (traindf['主要肇事因素'] == 7) | (traindf['主要肇事因素'] ==16) | (traindf['主要肇事因素'] ==23) \n",
        "print(y)\n",
        "X = traindf.copy()\n",
        "#print(X)\n",
        "del X['主要肇事因素']\n",
        "feature_name = list(Ｘ.columns)\n",
        "# no of maximum features we need to select\n",
        "num_feats=12\n",
        "\n"
      ],
      "execution_count": 0,
      "outputs": [
        {
          "output_type": "stream",
          "text": [
            "         日期   時   分    公路  ...      單位前車量1      單位前車量2       單位後車量1       單位後車量2\n",
            "0  2015/1/1   3  40  國道一號  ...  199.565217  199.130435   289.855072   268.260870\n",
            "1  2015/1/1  16  15  國道一號  ...  325.153846  302.307692   384.000000   316.384615\n",
            "2  2015/1/1  14  55  國道三號  ...  725.098039  618.235294   757.254902   570.392157\n",
            "3  2015/1/1  21  41  國道一號  ...  850.434783  753.913043  1359.130435  1175.869565\n",
            "4  2015/1/2   0   7  國道一號  ...  111.238938   69.646018   113.982301    70.176991\n",
            "\n",
            "[5 rows x 20 columns]\n",
            "     Keyid filename   事故年月    總編號  ...         CASE_NO    單位 單位名稱  權責縣市_Keyid\n",
            "0  1339188       A2  10308  20036  ...  24US1030820036  24US  NaN          23\n",
            "1  1339209       A2  10308  20037  ...  24US1030820037  24US  NaN          23\n",
            "2  1339230       A2  10308  20038  ...  24UW1030820038  24UW  NaN          23\n",
            "3  1339251       A2  10308  20039  ...  24TV1030820039  24TV  NaN          23\n",
            "4  1339272       A2  10308  20040  ...  24OV1030820040  24OV  NaN          23\n",
            "\n",
            "[5 rows x 61 columns]\n",
            "1       True\n",
            "2       True\n",
            "3      False\n",
            "5      False\n",
            "6       True\n",
            "7       True\n",
            "8      False\n",
            "9       True\n",
            "10      True\n",
            "11      True\n",
            "12      True\n",
            "13      True\n",
            "14      True\n",
            "15      True\n",
            "16      True\n",
            "17     False\n",
            "18     False\n",
            "19     False\n",
            "20      True\n",
            "21     False\n",
            "22      True\n",
            "23      True\n",
            "24      True\n",
            "25      True\n",
            "26      True\n",
            "27     False\n",
            "28      True\n",
            "29      True\n",
            "30      True\n",
            "31     False\n",
            "       ...  \n",
            "369     True\n",
            "370    False\n",
            "371     True\n",
            "372     True\n",
            "373    False\n",
            "374     True\n",
            "375     True\n",
            "376     True\n",
            "377    False\n",
            "378    False\n",
            "379     True\n",
            "380     True\n",
            "381     True\n",
            "382     True\n",
            "383     True\n",
            "384    False\n",
            "385     True\n",
            "386     True\n",
            "387    False\n",
            "388     True\n",
            "389     True\n",
            "390     True\n",
            "391    False\n",
            "392    False\n",
            "393     True\n",
            "394     True\n",
            "395     True\n",
            "396     True\n",
            "397    False\n",
            "398     True\n",
            "Name: 主要肇事因素, Length: 389, dtype: bool\n"
          ],
          "name": "stdout"
        }
      ]
    },
    {
      "cell_type": "code",
      "metadata": {
        "id": "1FG0IdsKsYMB",
        "colab_type": "code",
        "outputId": "1010aa27-3e51-4925-fb81-a749cd5b373f",
        "colab": {
          "base_uri": "https://localhost:8080/",
          "height": 702
        }
      },
      "source": [
        "\n",
        "if (traindf['主要肇事因素'] == 21)  | (traindf['主要肇事因素'] ==22) is True:\n",
        "  traindf['A']='A'\n",
        "elif (traindf['主要肇事因素'] == 48)  | (traindf['主要肇事因素'] ==39) | (traindf['主要肇事因素'] ==7) is True:\n",
        "  traindf['B']='B'\n",
        "elif (traindf['主要肇事因素'] == 16)  | (traindf['主要肇事因素'] ==23) | (traindf['主要肇事因素'] ==26)is True: \n",
        "  traindf['D']='D'\n",
        "else:\n",
        "  traindf['new_colu']='others'\n",
        "print(traindf['A'])"
      ],
      "execution_count": 0,
      "outputs": [
        {
          "output_type": "error",
          "ename": "KeyError",
          "evalue": "ignored",
          "traceback": [
            "\u001b[0;31m---------------------------------------------------------------------------\u001b[0m",
            "\u001b[0;31mKeyError\u001b[0m                                  Traceback (most recent call last)",
            "\u001b[0;32m/usr/local/lib/python3.6/dist-packages/pandas/core/indexes/base.py\u001b[0m in \u001b[0;36mget_loc\u001b[0;34m(self, key, method, tolerance)\u001b[0m\n\u001b[1;32m   2656\u001b[0m             \u001b[0;32mtry\u001b[0m\u001b[0;34m:\u001b[0m\u001b[0;34m\u001b[0m\u001b[0;34m\u001b[0m\u001b[0m\n\u001b[0;32m-> 2657\u001b[0;31m                 \u001b[0;32mreturn\u001b[0m \u001b[0mself\u001b[0m\u001b[0;34m.\u001b[0m\u001b[0m_engine\u001b[0m\u001b[0;34m.\u001b[0m\u001b[0mget_loc\u001b[0m\u001b[0;34m(\u001b[0m\u001b[0mkey\u001b[0m\u001b[0;34m)\u001b[0m\u001b[0;34m\u001b[0m\u001b[0;34m\u001b[0m\u001b[0m\n\u001b[0m\u001b[1;32m   2658\u001b[0m             \u001b[0;32mexcept\u001b[0m \u001b[0mKeyError\u001b[0m\u001b[0;34m:\u001b[0m\u001b[0;34m\u001b[0m\u001b[0;34m\u001b[0m\u001b[0m\n",
            "\u001b[0;32mpandas/_libs/index.pyx\u001b[0m in \u001b[0;36mpandas._libs.index.IndexEngine.get_loc\u001b[0;34m()\u001b[0m\n",
            "\u001b[0;32mpandas/_libs/index.pyx\u001b[0m in \u001b[0;36mpandas._libs.index.IndexEngine.get_loc\u001b[0;34m()\u001b[0m\n",
            "\u001b[0;32mpandas/_libs/hashtable_class_helper.pxi\u001b[0m in \u001b[0;36mpandas._libs.hashtable.PyObjectHashTable.get_item\u001b[0;34m()\u001b[0m\n",
            "\u001b[0;32mpandas/_libs/hashtable_class_helper.pxi\u001b[0m in \u001b[0;36mpandas._libs.hashtable.PyObjectHashTable.get_item\u001b[0;34m()\u001b[0m\n",
            "\u001b[0;31mKeyError\u001b[0m: 'A'",
            "\nDuring handling of the above exception, another exception occurred:\n",
            "\u001b[0;31mKeyError\u001b[0m                                  Traceback (most recent call last)",
            "\u001b[0;32m<ipython-input-9-bbd457590c70>\u001b[0m in \u001b[0;36m<module>\u001b[0;34m()\u001b[0m\n\u001b[1;32m      8\u001b[0m \u001b[0;32melse\u001b[0m\u001b[0;34m:\u001b[0m\u001b[0;34m\u001b[0m\u001b[0;34m\u001b[0m\u001b[0m\n\u001b[1;32m      9\u001b[0m   \u001b[0mtraindf\u001b[0m\u001b[0;34m[\u001b[0m\u001b[0;34m'new_colu'\u001b[0m\u001b[0;34m]\u001b[0m\u001b[0;34m=\u001b[0m\u001b[0;34m'others'\u001b[0m\u001b[0;34m\u001b[0m\u001b[0;34m\u001b[0m\u001b[0m\n\u001b[0;32m---> 10\u001b[0;31m \u001b[0mprint\u001b[0m\u001b[0;34m(\u001b[0m\u001b[0mtraindf\u001b[0m\u001b[0;34m[\u001b[0m\u001b[0;34m'A'\u001b[0m\u001b[0;34m]\u001b[0m\u001b[0;34m)\u001b[0m\u001b[0;34m\u001b[0m\u001b[0;34m\u001b[0m\u001b[0m\n\u001b[0m",
            "\u001b[0;32m/usr/local/lib/python3.6/dist-packages/pandas/core/frame.py\u001b[0m in \u001b[0;36m__getitem__\u001b[0;34m(self, key)\u001b[0m\n\u001b[1;32m   2925\u001b[0m             \u001b[0;32mif\u001b[0m \u001b[0mself\u001b[0m\u001b[0;34m.\u001b[0m\u001b[0mcolumns\u001b[0m\u001b[0;34m.\u001b[0m\u001b[0mnlevels\u001b[0m \u001b[0;34m>\u001b[0m \u001b[0;36m1\u001b[0m\u001b[0;34m:\u001b[0m\u001b[0;34m\u001b[0m\u001b[0;34m\u001b[0m\u001b[0m\n\u001b[1;32m   2926\u001b[0m                 \u001b[0;32mreturn\u001b[0m \u001b[0mself\u001b[0m\u001b[0;34m.\u001b[0m\u001b[0m_getitem_multilevel\u001b[0m\u001b[0;34m(\u001b[0m\u001b[0mkey\u001b[0m\u001b[0;34m)\u001b[0m\u001b[0;34m\u001b[0m\u001b[0;34m\u001b[0m\u001b[0m\n\u001b[0;32m-> 2927\u001b[0;31m             \u001b[0mindexer\u001b[0m \u001b[0;34m=\u001b[0m \u001b[0mself\u001b[0m\u001b[0;34m.\u001b[0m\u001b[0mcolumns\u001b[0m\u001b[0;34m.\u001b[0m\u001b[0mget_loc\u001b[0m\u001b[0;34m(\u001b[0m\u001b[0mkey\u001b[0m\u001b[0;34m)\u001b[0m\u001b[0;34m\u001b[0m\u001b[0;34m\u001b[0m\u001b[0m\n\u001b[0m\u001b[1;32m   2928\u001b[0m             \u001b[0;32mif\u001b[0m \u001b[0mis_integer\u001b[0m\u001b[0;34m(\u001b[0m\u001b[0mindexer\u001b[0m\u001b[0;34m)\u001b[0m\u001b[0;34m:\u001b[0m\u001b[0;34m\u001b[0m\u001b[0;34m\u001b[0m\u001b[0m\n\u001b[1;32m   2929\u001b[0m                 \u001b[0mindexer\u001b[0m \u001b[0;34m=\u001b[0m \u001b[0;34m[\u001b[0m\u001b[0mindexer\u001b[0m\u001b[0;34m]\u001b[0m\u001b[0;34m\u001b[0m\u001b[0;34m\u001b[0m\u001b[0m\n",
            "\u001b[0;32m/usr/local/lib/python3.6/dist-packages/pandas/core/indexes/base.py\u001b[0m in \u001b[0;36mget_loc\u001b[0;34m(self, key, method, tolerance)\u001b[0m\n\u001b[1;32m   2657\u001b[0m                 \u001b[0;32mreturn\u001b[0m \u001b[0mself\u001b[0m\u001b[0;34m.\u001b[0m\u001b[0m_engine\u001b[0m\u001b[0;34m.\u001b[0m\u001b[0mget_loc\u001b[0m\u001b[0;34m(\u001b[0m\u001b[0mkey\u001b[0m\u001b[0;34m)\u001b[0m\u001b[0;34m\u001b[0m\u001b[0;34m\u001b[0m\u001b[0m\n\u001b[1;32m   2658\u001b[0m             \u001b[0;32mexcept\u001b[0m \u001b[0mKeyError\u001b[0m\u001b[0;34m:\u001b[0m\u001b[0;34m\u001b[0m\u001b[0;34m\u001b[0m\u001b[0m\n\u001b[0;32m-> 2659\u001b[0;31m                 \u001b[0;32mreturn\u001b[0m \u001b[0mself\u001b[0m\u001b[0;34m.\u001b[0m\u001b[0m_engine\u001b[0m\u001b[0;34m.\u001b[0m\u001b[0mget_loc\u001b[0m\u001b[0;34m(\u001b[0m\u001b[0mself\u001b[0m\u001b[0;34m.\u001b[0m\u001b[0m_maybe_cast_indexer\u001b[0m\u001b[0;34m(\u001b[0m\u001b[0mkey\u001b[0m\u001b[0;34m)\u001b[0m\u001b[0;34m)\u001b[0m\u001b[0;34m\u001b[0m\u001b[0;34m\u001b[0m\u001b[0m\n\u001b[0m\u001b[1;32m   2660\u001b[0m         \u001b[0mindexer\u001b[0m \u001b[0;34m=\u001b[0m \u001b[0mself\u001b[0m\u001b[0;34m.\u001b[0m\u001b[0mget_indexer\u001b[0m\u001b[0;34m(\u001b[0m\u001b[0;34m[\u001b[0m\u001b[0mkey\u001b[0m\u001b[0;34m]\u001b[0m\u001b[0;34m,\u001b[0m \u001b[0mmethod\u001b[0m\u001b[0;34m=\u001b[0m\u001b[0mmethod\u001b[0m\u001b[0;34m,\u001b[0m \u001b[0mtolerance\u001b[0m\u001b[0;34m=\u001b[0m\u001b[0mtolerance\u001b[0m\u001b[0;34m)\u001b[0m\u001b[0;34m\u001b[0m\u001b[0;34m\u001b[0m\u001b[0m\n\u001b[1;32m   2661\u001b[0m         \u001b[0;32mif\u001b[0m \u001b[0mindexer\u001b[0m\u001b[0;34m.\u001b[0m\u001b[0mndim\u001b[0m \u001b[0;34m>\u001b[0m \u001b[0;36m1\u001b[0m \u001b[0;32mor\u001b[0m \u001b[0mindexer\u001b[0m\u001b[0;34m.\u001b[0m\u001b[0msize\u001b[0m \u001b[0;34m>\u001b[0m \u001b[0;36m1\u001b[0m\u001b[0;34m:\u001b[0m\u001b[0;34m\u001b[0m\u001b[0;34m\u001b[0m\u001b[0m\n",
            "\u001b[0;32mpandas/_libs/index.pyx\u001b[0m in \u001b[0;36mpandas._libs.index.IndexEngine.get_loc\u001b[0;34m()\u001b[0m\n",
            "\u001b[0;32mpandas/_libs/index.pyx\u001b[0m in \u001b[0;36mpandas._libs.index.IndexEngine.get_loc\u001b[0;34m()\u001b[0m\n",
            "\u001b[0;32mpandas/_libs/hashtable_class_helper.pxi\u001b[0m in \u001b[0;36mpandas._libs.hashtable.PyObjectHashTable.get_item\u001b[0;34m()\u001b[0m\n",
            "\u001b[0;32mpandas/_libs/hashtable_class_helper.pxi\u001b[0m in \u001b[0;36mpandas._libs.hashtable.PyObjectHashTable.get_item\u001b[0;34m()\u001b[0m\n",
            "\u001b[0;31mKeyError\u001b[0m: 'A'"
          ]
        }
      ]
    },
    {
      "cell_type": "code",
      "metadata": {
        "id": "UGKMiYsB-a95",
        "colab_type": "code",
        "colab": {}
      },
      "source": [
        "\n",
        "traindf.to_csv('Result.csv') "
      ],
      "execution_count": 0,
      "outputs": []
    },
    {
      "cell_type": "code",
      "metadata": {
        "id": "Z1OsQE8Syqql",
        "colab_type": "code",
        "outputId": "34b65eb9-a119-4707-f069-35d7c069a531",
        "colab": {
          "base_uri": "https://localhost:8080/",
          "height": 139
        }
      },
      "source": [
        "#Pearson correlation\n",
        "def cor_selector(X, y,num_feats):\n",
        "    cor_list = []\n",
        "    feature_name = X.columns.tolist()\n",
        "    # calculate the correlation with y for each feature\n",
        "    for i in X.columns.tolist():\n",
        "        cor = np.corrcoef(X[i], y)[0, 1]\n",
        "        cor_list.append(cor)\n",
        "    # replace NaN with 0\n",
        "    cor_list = [0 if np.isnan(i) else i for i in cor_list]\n",
        "    # feature name\n",
        "    cor_feature = X.iloc[:,np.argsort(np.abs(cor_list))[-num_feats:]].columns.tolist()\n",
        "    # feature selection? 0 for not select, 1 for select\n",
        "    cor_support = [True if i in cor_feature else False for i in feature_name]\n",
        "    return cor_support, cor_feature\n",
        "cor_support, cor_feature = cor_selector(X, y,num_feats)\n",
        "print(str(len(cor_feature)), 'selected features')\n",
        "\n",
        "print(cor_feature)"
      ],
      "execution_count": 0,
      "outputs": [
        {
          "output_type": "stream",
          "text": [
            "12 selected features\n",
            "['車道位置_中線', '號誌動作', '車道位置_交流道', '事故位置', '公里', '速限', '時', '單位後車量1', '單位前車量1', '速度', '後車量1', '前車量1']\n"
          ],
          "name": "stdout"
        },
        {
          "output_type": "stream",
          "text": [
            "/usr/local/lib/python3.6/dist-packages/numpy/lib/function_base.py:2530: RuntimeWarning: invalid value encountered in true_divide\n",
            "  c /= stddev[:, None]\n",
            "/usr/local/lib/python3.6/dist-packages/numpy/lib/function_base.py:2531: RuntimeWarning: invalid value encountered in true_divide\n",
            "  c /= stddev[None, :]\n"
          ],
          "name": "stderr"
        }
      ]
    },
    {
      "cell_type": "code",
      "metadata": {
        "id": "aTvKXXFLyyZw",
        "colab_type": "code",
        "outputId": "582595bb-d1ca-4b2a-cacb-e29d37c677a5",
        "colab": {
          "base_uri": "https://localhost:8080/",
          "height": 71
        }
      },
      "source": [
        "#chi-square\n",
        "from sklearn.feature_selection import SelectKBest\n",
        "from sklearn.feature_selection import chi2\n",
        "from sklearn.preprocessing import MinMaxScaler\n",
        "X_norm = MinMaxScaler().fit_transform(X)\n",
        "chi_selector = SelectKBest(chi2, k=num_feats)\n",
        "chi_selector.fit(X_norm, y)\n",
        "chi_support = chi_selector.get_support()\n",
        "chi_feature = X.loc[:,chi_support].columns.tolist()\n",
        "print(str(len(chi_feature)), 'selected features')\n",
        "print(chi_feature)"
      ],
      "execution_count": 0,
      "outputs": [
        {
          "output_type": "stream",
          "text": [
            "12 selected features\n",
            "['前車量1', '後車量1', '單位前車量1', '單位後車量1', '時', '公里', '分向設施', '車道位置_中線', '車道位置_交流道', '車道位置_外側', '車道位置_外側路肩', '車道位置_高架內側']\n"
          ],
          "name": "stdout"
        }
      ]
    },
    {
      "cell_type": "code",
      "metadata": {
        "id": "whMaaZg8y1O9",
        "colab_type": "code",
        "outputId": "bd1d3c67-de2e-475a-c1cb-65612afeec41",
        "colab": {
          "base_uri": "https://localhost:8080/",
          "height": 309
        }
      },
      "source": [
        "#Recursive Feature Elimination\n",
        "from sklearn.feature_selection import RFE\n",
        "from sklearn.linear_model import LogisticRegression\n",
        "rfe_selector = RFE(estimator=LogisticRegression(), n_features_to_select=num_feats, step=10, verbose=5)\n",
        "rfe_selector.fit(X_norm, y)\n",
        "\n",
        "rfe_support = rfe_selector.get_support()\n",
        "rfe_feature = X.loc[:,rfe_support].columns.tolist()\n",
        "print(str(len(rfe_feature)), 'selected features')\n",
        "print(rfe_feature)"
      ],
      "execution_count": 0,
      "outputs": [
        {
          "output_type": "stream",
          "text": [
            "Fitting estimator with 46 features.\n",
            "Fitting estimator with 36 features.\n",
            "Fitting estimator with 26 features.\n",
            "Fitting estimator with 16 features.\n",
            "12 selected features\n",
            "['前車量1', '後車量1', '速度', '單位前車量1', '時', '公里', '光線', '事故位置', '車道位置_交流道', '車道位置_外側', '車道位置_外側路肩', '車道位置_服務區']\n"
          ],
          "name": "stdout"
        },
        {
          "output_type": "stream",
          "text": [
            "/usr/local/lib/python3.6/dist-packages/sklearn/linear_model/logistic.py:432: FutureWarning: Default solver will be changed to 'lbfgs' in 0.22. Specify a solver to silence this warning.\n",
            "  FutureWarning)\n",
            "/usr/local/lib/python3.6/dist-packages/sklearn/linear_model/logistic.py:432: FutureWarning: Default solver will be changed to 'lbfgs' in 0.22. Specify a solver to silence this warning.\n",
            "  FutureWarning)\n",
            "/usr/local/lib/python3.6/dist-packages/sklearn/linear_model/logistic.py:432: FutureWarning: Default solver will be changed to 'lbfgs' in 0.22. Specify a solver to silence this warning.\n",
            "  FutureWarning)\n",
            "/usr/local/lib/python3.6/dist-packages/sklearn/linear_model/logistic.py:432: FutureWarning: Default solver will be changed to 'lbfgs' in 0.22. Specify a solver to silence this warning.\n",
            "  FutureWarning)\n",
            "/usr/local/lib/python3.6/dist-packages/sklearn/linear_model/logistic.py:432: FutureWarning: Default solver will be changed to 'lbfgs' in 0.22. Specify a solver to silence this warning.\n",
            "  FutureWarning)\n"
          ],
          "name": "stderr"
        }
      ]
    },
    {
      "cell_type": "code",
      "metadata": {
        "id": "1O1dUVbWy4dV",
        "colab_type": "code",
        "outputId": "3fa14ec1-0117-44af-ff35-eac8b811bd8a",
        "colab": {
          "base_uri": "https://localhost:8080/",
          "height": 105
        }
      },
      "source": [
        "#Lasso: SelectFromModel\n",
        "\n",
        "from sklearn.feature_selection import SelectFromModel\n",
        "from sklearn.linear_model import LogisticRegression\n",
        "\n",
        "embeded_lr_selector = SelectFromModel(LogisticRegression(penalty=\"l1\"), max_features=num_feats)\n",
        "embeded_lr_selector.fit(X_norm, y)\n",
        "\n",
        "embeded_lr_support = embeded_lr_selector.get_support()\n",
        "embeded_lr_feature = X.loc[:,embeded_lr_support].columns.tolist()\n",
        "print(str(len(embeded_lr_feature)), 'selected features')\n",
        "\n",
        "print(embeded_lr_feature)"
      ],
      "execution_count": 0,
      "outputs": [
        {
          "output_type": "stream",
          "text": [
            "12 selected features\n",
            "['前車量1', '速度', '時', '公里', '光線', '事故位置', '分道設施-快車道間', '分道設施-快慢車道間', '車道位置_中內', '車道位置_交流道', '車道位置_外側', '車道位置_外側路肩']\n"
          ],
          "name": "stdout"
        },
        {
          "output_type": "stream",
          "text": [
            "/usr/local/lib/python3.6/dist-packages/sklearn/linear_model/logistic.py:432: FutureWarning: Default solver will be changed to 'lbfgs' in 0.22. Specify a solver to silence this warning.\n",
            "  FutureWarning)\n"
          ],
          "name": "stderr"
        }
      ]
    },
    {
      "cell_type": "code",
      "metadata": {
        "id": "EdKpadHIy7JV",
        "colab_type": "code",
        "outputId": "4a84f4cf-7b65-43f1-99c1-b89986498190",
        "colab": {
          "base_uri": "https://localhost:8080/",
          "height": 85
        }
      },
      "source": [
        "#Tree-based: SelectFromModel\n",
        "\n",
        "from sklearn.feature_selection import SelectFromModel\n",
        "from sklearn.ensemble import RandomForestClassifier\n",
        "\n",
        "embeded_rf_selector = SelectFromModel(RandomForestClassifier(n_estimators=100), max_features=num_feats)\n",
        "embeded_rf_selector.fit(X, y)\n",
        "\n",
        "embeded_rf_support = embeded_rf_selector.get_support()\n",
        "embeded_rf_feature = X.loc[:,embeded_rf_support].columns.tolist()\n",
        "print(str(len(embeded_rf_feature)), 'selected features')\n",
        "\n",
        "print(embeded_rf_feature)\n",
        "\n",
        "from sklearn.feature_selection import SelectFromModel\n",
        "from lightgbm import LGBMClassifier\n",
        "\n",
        "lgbc=LGBMClassifier(n_estimators=500, learning_rate=0.05, num_leaves=32, colsample_bytree=0.2,\n",
        "            reg_alpha=3, reg_lambda=1, min_split_gain=0.01, min_child_weight=40)\n",
        "\n",
        "embeded_lgb_selector = SelectFromModel(lgbc, max_features=num_feats)\n",
        "embeded_lgb_selector.fit(X, y)\n",
        "\n",
        "embeded_lgb_support = embeded_lgb_selector.get_support()\n",
        "embeded_lgb_feature = X.loc[:,embeded_lgb_support].columns.tolist()\n",
        "print(str(len(embeded_lgb_feature)), 'selected features')\n",
        "\n",
        "print(embeded_lgb_feature)"
      ],
      "execution_count": 0,
      "outputs": [
        {
          "output_type": "stream",
          "text": [
            "10 selected features\n",
            "['前車量1', '後車量1', '速度', '單位前車量1', '單位後車量1', '時', '公里', '光線', '速限', '車道位置_外側']\n",
            "8 selected features\n",
            "['前車量1', '後車量1', '速度', '單位前車量1', '單位後車量1', '公里', '光線', '速限']\n"
          ],
          "name": "stdout"
        }
      ]
    },
    {
      "cell_type": "code",
      "metadata": {
        "id": "AVL5O9Xey-jl",
        "colab_type": "code",
        "outputId": "64563149-e3eb-4c01-baef-31c40e9003a7",
        "colab": {
          "base_uri": "https://localhost:8080/",
          "height": 238
        }
      },
      "source": [
        "# put all selection together\n",
        "feature_selection_df = pd.DataFrame({'Feature':feature_name, 'Pearson':cor_support, 'Chi-2':chi_support, 'RFE':rfe_support, 'Logistics':embeded_lr_support,\n",
        "                                    'Random Forest':embeded_rf_support, 'LightGBM':embeded_lgb_support})\n",
        "# count the selected times for each feature\n",
        "feature_selection_df['Total'] = np.sum(feature_selection_df, axis=1)\n",
        "# display the top 100\n",
        "feature_selection_df = feature_selection_df.sort_values(['Total','Feature'] , ascending=False)\n",
        "feature_selection_df.index = range(1, len(feature_selection_df)+1)\n",
        "print(feature_selection_df.head(num_feats))"
      ],
      "execution_count": 0,
      "outputs": [
        {
          "output_type": "stream",
          "text": [
            "      Feature  Pearson  Chi-2    RFE  Logistics  Random Forest  LightGBM  Total\n",
            "1        前車量1     True   True   True       True           True      True      6\n",
            "2          公里     True   True   True       True           True      True      6\n",
            "3          速度     True  False   True       True           True      True      5\n",
            "4           時     True   True   True       True           True     False      5\n",
            "5        後車量1     True   True   True      False           True      True      5\n",
            "6      單位前車量1     True   True   True      False           True      True      5\n",
            "7     車道位置_外側    False   True   True       True           True     False      4\n",
            "8    車道位置_交流道     True   True   True       True          False     False      4\n",
            "9      單位後車量1     True   True  False      False           True      True      4\n",
            "10         光線    False  False   True       True           True      True      4\n",
            "11         速限     True  False  False      False           True      True      3\n",
            "12  車道位置_外側路肩    False   True   True       True          False     False      3\n"
          ],
          "name": "stdout"
        }
      ]
    },
    {
      "cell_type": "code",
      "metadata": {
        "id": "QKpF7kHZNCE9",
        "colab_type": "code",
        "outputId": "1472ad0d-cbdc-4e55-82d0-492ebccc9bfb",
        "colab": {
          "base_uri": "https://localhost:8080/",
          "height": 17
        }
      },
      "source": [
        "#Call required libraries\n",
        "import time                   # To time processes\n",
        "import warnings               # To suppress warnings\n",
        "\n",
        "import numpy as np            # Data manipulation\n",
        "import pandas as pd           # Dataframe manipulatio \n",
        "import matplotlib.pyplot as plt                   # For graphics\n",
        "import seaborn as sns\n",
        "import plotly.plotly as py #For World Map\n",
        "import plotly.graph_objs as go\n",
        "from plotly.offline import download_plotlyjs, init_notebook_mode, plot, iplot\n",
        "init_notebook_mode(connected=True)\n",
        "\n",
        "from sklearn.preprocessing import StandardScaler  # For scaling dataset\n",
        "from sklearn.cluster import KMeans, AgglomerativeClustering, AffinityPropagation #For clustering\n",
        "from sklearn.mixture import GaussianMixture #For GMM clustering\n",
        "\n",
        "import os                     # For os related operations\n",
        "import sys   "
      ],
      "execution_count": 0,
      "outputs": [
        {
          "output_type": "display_data",
          "data": {
            "text/vnd.plotly.v1+html": "<script type=\"text/javascript\">window.PlotlyConfig = {MathJaxConfig: 'local'};</script><script type=\"text/javascript\">if (window.MathJax) {MathJax.Hub.Config({SVG: {font: \"STIX-Web\"}});}</script><script>requirejs.config({paths: { 'plotly': ['https://cdn.plot.ly/plotly-latest.min']},});if(!window._Plotly) {require(['plotly'],function(plotly) {window._Plotly=plotly;});}</script>",
            "text/html": [
              "<script type=\"text/javascript\">window.PlotlyConfig = {MathJaxConfig: 'local'};</script><script type=\"text/javascript\">if (window.MathJax) {MathJax.Hub.Config({SVG: {font: \"STIX-Web\"}});}</script><script>requirejs.config({paths: { 'plotly': ['https://cdn.plot.ly/plotly-latest.min']},});if(!window._Plotly) {require(['plotly'],function(plotly) {window._Plotly=plotly;});}</script>"
            ]
          },
          "metadata": {
            "tags": []
          }
        }
      ]
    },
    {
      "cell_type": "code",
      "metadata": {
        "id": "YXsjayMpNK72",
        "colab_type": "code",
        "colab": {}
      },
      "source": [
        "traindf.describe()"
      ],
      "execution_count": 0,
      "outputs": []
    },
    {
      "cell_type": "code",
      "metadata": {
        "id": "xHlOnMOaNius",
        "colab_type": "code",
        "outputId": "780ec313-307e-48b6-b0d5-d4efd34741a4",
        "colab": {
          "base_uri": "https://localhost:8080/",
          "height": 252
        }
      },
      "source": [
        "import matplotlib as mpl\n",
        "mpl.rcParams['font.sans-serif'] = ['SimHei']\n",
        "mpl.rcParams['font.serif'] = ['SimHei']\n",
        "import seaborn as sns\n",
        "sns.set_style(\"darkgrid\",{\"font.sans-serif\":['simhei', 'Arial']})\n",
        "\n",
        "from matplotlib.font_manager import FontProperties\n",
        "myfont=FontProperties(fname=\"/content/SourceHanSerifK-Light.otf\")\n",
        "sns.set(font=myfont.get_family())\n",
        "sns.set_style(\"whitegrid\",{\"font.sans-serif\":['Source Han Serifk Light']})\n",
        "\n",
        "\n",
        "\n",
        "wh1 = traindf[['前車量1', '後車量1','速度','單位前車量1', '單位後車量1','時','公里','天候','光線', '道路類別','速限', '道路型態', '事故位置', '路面鋪裝','路面狀態','路面缺陷','障礙物','視距','號誌種類', '號誌動作','分向設施','分道設施-快車道間','主要肇事因素','分道設施-快慢車道間','分道設施-路面邊線']]\n",
        "cor = wh1.corr() #Calculate the correlation of the above variables\n",
        "sns.heatmap(cor, square = True) #Plot the correlation as heat map"
      ],
      "execution_count": 0,
      "outputs": [
        {
          "output_type": "error",
          "ename": "NameError",
          "evalue": "ignored",
          "traceback": [
            "\u001b[0;31m---------------------------------------------------------------------------\u001b[0m",
            "\u001b[0;31mNameError\u001b[0m                                 Traceback (most recent call last)",
            "\u001b[0;32m<ipython-input-4-7453095366fe>\u001b[0m in \u001b[0;36m<module>\u001b[0;34m()\u001b[0m\n\u001b[1;32m     12\u001b[0m \u001b[0;34m\u001b[0m\u001b[0m\n\u001b[1;32m     13\u001b[0m \u001b[0;34m\u001b[0m\u001b[0m\n\u001b[0;32m---> 14\u001b[0;31m \u001b[0mwh1\u001b[0m \u001b[0;34m=\u001b[0m \u001b[0mtraindf\u001b[0m\u001b[0;34m[\u001b[0m\u001b[0;34m[\u001b[0m\u001b[0;34m'前車量1'\u001b[0m\u001b[0;34m,\u001b[0m \u001b[0;34m'後車量1'\u001b[0m\u001b[0;34m,\u001b[0m\u001b[0;34m'速度'\u001b[0m\u001b[0;34m,\u001b[0m\u001b[0;34m'單位前車量1'\u001b[0m\u001b[0;34m,\u001b[0m \u001b[0;34m'單位後車量1'\u001b[0m\u001b[0;34m,\u001b[0m\u001b[0;34m'時'\u001b[0m\u001b[0;34m,\u001b[0m\u001b[0;34m'公里'\u001b[0m\u001b[0;34m,\u001b[0m\u001b[0;34m'天候'\u001b[0m\u001b[0;34m,\u001b[0m\u001b[0;34m'光線'\u001b[0m\u001b[0;34m,\u001b[0m \u001b[0;34m'道路類別'\u001b[0m\u001b[0;34m,\u001b[0m\u001b[0;34m'速限'\u001b[0m\u001b[0;34m,\u001b[0m \u001b[0;34m'道路型態'\u001b[0m\u001b[0;34m,\u001b[0m \u001b[0;34m'事故位置'\u001b[0m\u001b[0;34m,\u001b[0m \u001b[0;34m'路面鋪裝'\u001b[0m\u001b[0;34m,\u001b[0m\u001b[0;34m'路面狀態'\u001b[0m\u001b[0;34m,\u001b[0m\u001b[0;34m'路面缺陷'\u001b[0m\u001b[0;34m,\u001b[0m\u001b[0;34m'障礙物'\u001b[0m\u001b[0;34m,\u001b[0m\u001b[0;34m'視距'\u001b[0m\u001b[0;34m,\u001b[0m\u001b[0;34m'號誌種類'\u001b[0m\u001b[0;34m,\u001b[0m \u001b[0;34m'號誌動作'\u001b[0m\u001b[0;34m,\u001b[0m\u001b[0;34m'分向設施'\u001b[0m\u001b[0;34m,\u001b[0m\u001b[0;34m'分道設施-快車道間'\u001b[0m\u001b[0;34m,\u001b[0m\u001b[0;34m'主要肇事因素'\u001b[0m\u001b[0;34m,\u001b[0m\u001b[0;34m'分道設施-快慢車道間'\u001b[0m\u001b[0;34m,\u001b[0m\u001b[0;34m'分道設施-路面邊線'\u001b[0m\u001b[0;34m]\u001b[0m\u001b[0;34m]\u001b[0m\u001b[0;34m\u001b[0m\u001b[0;34m\u001b[0m\u001b[0m\n\u001b[0m\u001b[1;32m     15\u001b[0m \u001b[0mcor\u001b[0m \u001b[0;34m=\u001b[0m \u001b[0mwh1\u001b[0m\u001b[0;34m.\u001b[0m\u001b[0mcorr\u001b[0m\u001b[0;34m(\u001b[0m\u001b[0;34m)\u001b[0m \u001b[0;31m#Calculate the correlation of the above variables\u001b[0m\u001b[0;34m\u001b[0m\u001b[0;34m\u001b[0m\u001b[0m\n\u001b[1;32m     16\u001b[0m \u001b[0msns\u001b[0m\u001b[0;34m.\u001b[0m\u001b[0mheatmap\u001b[0m\u001b[0;34m(\u001b[0m\u001b[0mcor\u001b[0m\u001b[0;34m,\u001b[0m \u001b[0msquare\u001b[0m \u001b[0;34m=\u001b[0m \u001b[0;32mTrue\u001b[0m\u001b[0;34m)\u001b[0m \u001b[0;31m#Plot the correlation as heat map\u001b[0m\u001b[0;34m\u001b[0m\u001b[0;34m\u001b[0m\u001b[0m\n",
            "\u001b[0;31mNameError\u001b[0m: name 'traindf' is not defined"
          ]
        }
      ]
    },
    {
      "cell_type": "code",
      "metadata": {
        "id": "8bTu-xzTb99O",
        "colab_type": "code",
        "outputId": "f12cb965-eae5-43ef-c4a0-aad5be8ef00a",
        "colab": {
          "base_uri": "https://localhost:8080/",
          "height": 238
        }
      },
      "source": [
        "ss = StandardScaler()\n",
        "ss.fit_transform(wh1)"
      ],
      "execution_count": 0,
      "outputs": [
        {
          "output_type": "execute_result",
          "data": {
            "text/plain": [
              "array([[ 0.64212984,  0.98500965, -3.88999829, ..., -0.58802405,\n",
              "         0.15694278, -0.07188852],\n",
              "       [ 0.3536659 ,  0.40461436, -1.08144204, ..., -1.24240174,\n",
              "         0.15694278, -0.07188852],\n",
              "       [ 0.4703602 ,  1.63217608,  0.28521654, ...,  1.30240038,\n",
              "         0.15694278, -0.07188852],\n",
              "       ...,\n",
              "       [-1.32476892, -1.28007286,  0.3384527 , ..., -0.07906363,\n",
              "         0.15694278, -0.07188852],\n",
              "       [-1.24460975, -1.20970635,  0.23393193, ...,  1.73865217,\n",
              "        -6.82028494, -0.07188852],\n",
              "       [-1.51780528, -1.44802796,  0.20381374, ..., -0.07906363,\n",
              "         0.15694278, -0.07188852]])"
            ]
          },
          "metadata": {
            "tags": []
          },
          "execution_count": 45
        }
      ]
    },
    {
      "cell_type": "code",
      "metadata": {
        "id": "N1Ps3W13cEn8",
        "colab_type": "code",
        "colab": {}
      },
      "source": [
        "#K means Clustering \n",
        "def doKmeans(X, nclust=2):\n",
        "    model = KMeans(nclust)\n",
        "    model.fit(X)\n",
        "    clust_labels = model.predict(X)\n",
        "    cent = model.cluster_centers_\n",
        "    return (clust_labels, cent)\n",
        "\n",
        "clust_labels, cent = doKmeans(wh1, 2)\n",
        "kmeans = pd.DataFrame(clust_labels)\n",
        "wh1.insert((wh1.shape[1]),'kmeans',kmeans)"
      ],
      "execution_count": 0,
      "outputs": []
    },
    {
      "cell_type": "code",
      "metadata": {
        "id": "I_w0cKRvcIYA",
        "colab_type": "code",
        "outputId": "602d3328-f3dd-446a-c38d-7a9a3db9da66",
        "colab": {
          "base_uri": "https://localhost:8080/",
          "height": 312
        }
      },
      "source": [
        "#Plot the clusters obtained using k means\n",
        "fig = plt.figure()\n",
        "ax = fig.add_subplot(111)\n",
        "scatter = ax.scatter(wh1['速度'],wh1['前車量1'],\n",
        "                     c=kmeans[0],s=50)\n",
        "ax.set_title('K-Means Clustering')\n",
        "ax.set_xlabel('速度')\n",
        "ax.set_ylabel('前車量1')\n",
        "plt.colorbar(scatter)"
      ],
      "execution_count": 0,
      "outputs": [
        {
          "output_type": "execute_result",
          "data": {
            "text/plain": [
              "<matplotlib.colorbar.Colorbar at 0x7f222af3bd30>"
            ]
          },
          "metadata": {
            "tags": []
          },
          "execution_count": 49
        },
        {
          "output_type": "display_data",
          "data": {
            "image/png": "[encoded data removed]",
            "text/plain": [
              "<Figure size 432x288 with 2 Axes>"
            ]
          },
          "metadata": {
            "tags": []
          }
        }
      ]
    },
    {
      "cell_type": "code",
      "metadata": {
        "id": "ImmdDf6Bebjw",
        "colab_type": "code",
        "outputId": "bf6b7a0d-cc2a-43d2-ba30-e137db30f042",
        "colab": {
          "base_uri": "https://localhost:8080/",
          "height": 379
        }
      },
      "source": [
        "def doAgglomerative(X, nclust=2):\n",
        "    model = AgglomerativeClustering(n_clusters=nclust, affinity = 'euclidean', linkage = 'ward')\n",
        "    clust_labels1 = model.fit_predict(X)\n",
        "    return (clust_labels1)\n",
        "\n",
        "clust_labels1 = doAgglomerative(wh1, 2)\n",
        "agglomerative = pd.DataFrame(clust_labels1)\n",
        "wh1.insert((wh1.shape[1]),'agglomerative',agglomerative)"
      ],
      "execution_count": 0,
      "outputs": [
        {
          "output_type": "error",
          "ename": "ValueError",
          "evalue": "ignored",
          "traceback": [
            "\u001b[0;31m---------------------------------------------------------------------------\u001b[0m",
            "\u001b[0;31mValueError\u001b[0m                                Traceback (most recent call last)",
            "\u001b[0;32m<ipython-input-52-d71a803573cd>\u001b[0m in \u001b[0;36m<module>\u001b[0;34m()\u001b[0m\n\u001b[1;32m      4\u001b[0m     \u001b[0;32mreturn\u001b[0m \u001b[0;34m(\u001b[0m\u001b[0mclust_labels1\u001b[0m\u001b[0;34m)\u001b[0m\u001b[0;34m\u001b[0m\u001b[0;34m\u001b[0m\u001b[0m\n\u001b[1;32m      5\u001b[0m \u001b[0;34m\u001b[0m\u001b[0m\n\u001b[0;32m----> 6\u001b[0;31m \u001b[0mclust_labels1\u001b[0m \u001b[0;34m=\u001b[0m \u001b[0mdoAgglomerative\u001b[0m\u001b[0;34m(\u001b[0m\u001b[0mwh1\u001b[0m\u001b[0;34m,\u001b[0m \u001b[0;36m2\u001b[0m\u001b[0;34m)\u001b[0m\u001b[0;34m\u001b[0m\u001b[0;34m\u001b[0m\u001b[0m\n\u001b[0m\u001b[1;32m      7\u001b[0m \u001b[0magglomerative\u001b[0m \u001b[0;34m=\u001b[0m \u001b[0mpd\u001b[0m\u001b[0;34m.\u001b[0m\u001b[0mDataFrame\u001b[0m\u001b[0;34m(\u001b[0m\u001b[0mclust_labels1\u001b[0m\u001b[0;34m)\u001b[0m\u001b[0;34m\u001b[0m\u001b[0;34m\u001b[0m\u001b[0m\n\u001b[1;32m      8\u001b[0m \u001b[0mwh1\u001b[0m\u001b[0;34m.\u001b[0m\u001b[0minsert\u001b[0m\u001b[0;34m(\u001b[0m\u001b[0;34m(\u001b[0m\u001b[0mwh1\u001b[0m\u001b[0;34m.\u001b[0m\u001b[0mshape\u001b[0m\u001b[0;34m[\u001b[0m\u001b[0;36m1\u001b[0m\u001b[0;34m]\u001b[0m\u001b[0;34m)\u001b[0m\u001b[0;34m,\u001b[0m\u001b[0;34m'agglomerative'\u001b[0m\u001b[0;34m,\u001b[0m\u001b[0magglomerative\u001b[0m\u001b[0;34m)\u001b[0m\u001b[0;34m\u001b[0m\u001b[0;34m\u001b[0m\u001b[0m\n",
            "\u001b[0;32m<ipython-input-52-d71a803573cd>\u001b[0m in \u001b[0;36mdoAgglomerative\u001b[0;34m(X, nclust)\u001b[0m\n\u001b[1;32m      1\u001b[0m \u001b[0;32mdef\u001b[0m \u001b[0mdoAgglomerative\u001b[0m\u001b[0;34m(\u001b[0m\u001b[0mX\u001b[0m\u001b[0;34m,\u001b[0m \u001b[0mnclust\u001b[0m\u001b[0;34m=\u001b[0m\u001b[0;36m2\u001b[0m\u001b[0;34m)\u001b[0m\u001b[0;34m:\u001b[0m\u001b[0;34m\u001b[0m\u001b[0;34m\u001b[0m\u001b[0m\n\u001b[1;32m      2\u001b[0m     \u001b[0mmodel\u001b[0m \u001b[0;34m=\u001b[0m \u001b[0mAgglomerativeClustering\u001b[0m\u001b[0;34m(\u001b[0m\u001b[0mn_clusters\u001b[0m\u001b[0;34m=\u001b[0m\u001b[0mnclust\u001b[0m\u001b[0;34m,\u001b[0m \u001b[0maffinity\u001b[0m \u001b[0;34m=\u001b[0m \u001b[0;34m'euclidean'\u001b[0m\u001b[0;34m,\u001b[0m \u001b[0mlinkage\u001b[0m \u001b[0;34m=\u001b[0m \u001b[0;34m'ward'\u001b[0m\u001b[0;34m)\u001b[0m\u001b[0;34m\u001b[0m\u001b[0;34m\u001b[0m\u001b[0m\n\u001b[0;32m----> 3\u001b[0;31m     \u001b[0mclust_labels1\u001b[0m \u001b[0;34m=\u001b[0m \u001b[0mmodel\u001b[0m\u001b[0;34m.\u001b[0m\u001b[0mfit_predict\u001b[0m\u001b[0;34m(\u001b[0m\u001b[0mX\u001b[0m\u001b[0;34m)\u001b[0m\u001b[0;34m\u001b[0m\u001b[0;34m\u001b[0m\u001b[0m\n\u001b[0m\u001b[1;32m      4\u001b[0m     \u001b[0;32mreturn\u001b[0m \u001b[0;34m(\u001b[0m\u001b[0mclust_labels1\u001b[0m\u001b[0;34m)\u001b[0m\u001b[0;34m\u001b[0m\u001b[0;34m\u001b[0m\u001b[0m\n\u001b[1;32m      5\u001b[0m \u001b[0;34m\u001b[0m\u001b[0m\n",
            "\u001b[0;32m/usr/local/lib/python3.6/dist-packages/sklearn/base.py\u001b[0m in \u001b[0;36mfit_predict\u001b[0;34m(self, X, y)\u001b[0m\n\u001b[1;32m    445\u001b[0m         \u001b[0;31m# non-optimized default implementation; override when a better\u001b[0m\u001b[0;34m\u001b[0m\u001b[0;34m\u001b[0m\u001b[0;34m\u001b[0m\u001b[0m\n\u001b[1;32m    446\u001b[0m         \u001b[0;31m# method is possible for a given clustering algorithm\u001b[0m\u001b[0;34m\u001b[0m\u001b[0;34m\u001b[0m\u001b[0;34m\u001b[0m\u001b[0m\n\u001b[0;32m--> 447\u001b[0;31m         \u001b[0mself\u001b[0m\u001b[0;34m.\u001b[0m\u001b[0mfit\u001b[0m\u001b[0;34m(\u001b[0m\u001b[0mX\u001b[0m\u001b[0;34m)\u001b[0m\u001b[0;34m\u001b[0m\u001b[0;34m\u001b[0m\u001b[0m\n\u001b[0m\u001b[1;32m    448\u001b[0m         \u001b[0;32mreturn\u001b[0m \u001b[0mself\u001b[0m\u001b[0;34m.\u001b[0m\u001b[0mlabels_\u001b[0m\u001b[0;34m\u001b[0m\u001b[0;34m\u001b[0m\u001b[0m\n\u001b[1;32m    449\u001b[0m \u001b[0;34m\u001b[0m\u001b[0m\n",
            "\u001b[0;32m/usr/local/lib/python3.6/dist-packages/sklearn/cluster/hierarchical.py\u001b[0m in \u001b[0;36mfit\u001b[0;34m(self, X, y)\u001b[0m\n\u001b[1;32m    803\u001b[0m                           \u001b[0;34m' It has been deprecated in version 0.20 and will be'\u001b[0m\u001b[0;34m\u001b[0m\u001b[0;34m\u001b[0m\u001b[0m\n\u001b[1;32m    804\u001b[0m                           'removed in 0.22', DeprecationWarning)\n\u001b[0;32m--> 805\u001b[0;31m         \u001b[0mX\u001b[0m \u001b[0;34m=\u001b[0m \u001b[0mcheck_array\u001b[0m\u001b[0;34m(\u001b[0m\u001b[0mX\u001b[0m\u001b[0;34m,\u001b[0m \u001b[0mensure_min_samples\u001b[0m\u001b[0;34m=\u001b[0m\u001b[0;36m2\u001b[0m\u001b[0;34m,\u001b[0m \u001b[0mestimator\u001b[0m\u001b[0;34m=\u001b[0m\u001b[0mself\u001b[0m\u001b[0;34m)\u001b[0m\u001b[0;34m\u001b[0m\u001b[0;34m\u001b[0m\u001b[0m\n\u001b[0m\u001b[1;32m    806\u001b[0m         \u001b[0mmemory\u001b[0m \u001b[0;34m=\u001b[0m \u001b[0mcheck_memory\u001b[0m\u001b[0;34m(\u001b[0m\u001b[0mself\u001b[0m\u001b[0;34m.\u001b[0m\u001b[0mmemory\u001b[0m\u001b[0;34m)\u001b[0m\u001b[0;34m\u001b[0m\u001b[0;34m\u001b[0m\u001b[0m\n\u001b[1;32m    807\u001b[0m \u001b[0;34m\u001b[0m\u001b[0m\n",
            "\u001b[0;32m/usr/local/lib/python3.6/dist-packages/sklearn/utils/validation.py\u001b[0m in \u001b[0;36mcheck_array\u001b[0;34m(array, accept_sparse, accept_large_sparse, dtype, order, copy, force_all_finite, ensure_2d, allow_nd, ensure_min_samples, ensure_min_features, warn_on_dtype, estimator)\u001b[0m\n\u001b[1;32m    540\u001b[0m         \u001b[0;32mif\u001b[0m \u001b[0mforce_all_finite\u001b[0m\u001b[0;34m:\u001b[0m\u001b[0;34m\u001b[0m\u001b[0;34m\u001b[0m\u001b[0m\n\u001b[1;32m    541\u001b[0m             _assert_all_finite(array,\n\u001b[0;32m--> 542\u001b[0;31m                                allow_nan=force_all_finite == 'allow-nan')\n\u001b[0m\u001b[1;32m    543\u001b[0m \u001b[0;34m\u001b[0m\u001b[0m\n\u001b[1;32m    544\u001b[0m     \u001b[0;32mif\u001b[0m \u001b[0mensure_min_samples\u001b[0m \u001b[0;34m>\u001b[0m \u001b[0;36m0\u001b[0m\u001b[0;34m:\u001b[0m\u001b[0;34m\u001b[0m\u001b[0;34m\u001b[0m\u001b[0m\n",
            "\u001b[0;32m/usr/local/lib/python3.6/dist-packages/sklearn/utils/validation.py\u001b[0m in \u001b[0;36m_assert_all_finite\u001b[0;34m(X, allow_nan)\u001b[0m\n\u001b[1;32m     54\u001b[0m                 not allow_nan and not np.isfinite(X).all()):\n\u001b[1;32m     55\u001b[0m             \u001b[0mtype_err\u001b[0m \u001b[0;34m=\u001b[0m \u001b[0;34m'infinity'\u001b[0m \u001b[0;32mif\u001b[0m \u001b[0mallow_nan\u001b[0m \u001b[0;32melse\u001b[0m \u001b[0;34m'NaN, infinity'\u001b[0m\u001b[0;34m\u001b[0m\u001b[0;34m\u001b[0m\u001b[0m\n\u001b[0;32m---> 56\u001b[0;31m             \u001b[0;32mraise\u001b[0m \u001b[0mValueError\u001b[0m\u001b[0;34m(\u001b[0m\u001b[0mmsg_err\u001b[0m\u001b[0;34m.\u001b[0m\u001b[0mformat\u001b[0m\u001b[0;34m(\u001b[0m\u001b[0mtype_err\u001b[0m\u001b[0;34m,\u001b[0m \u001b[0mX\u001b[0m\u001b[0;34m.\u001b[0m\u001b[0mdtype\u001b[0m\u001b[0;34m)\u001b[0m\u001b[0;34m)\u001b[0m\u001b[0;34m\u001b[0m\u001b[0;34m\u001b[0m\u001b[0m\n\u001b[0m\u001b[1;32m     57\u001b[0m     \u001b[0;31m# for object dtype data, we only check for NaNs (GH-13254)\u001b[0m\u001b[0;34m\u001b[0m\u001b[0;34m\u001b[0m\u001b[0;34m\u001b[0m\u001b[0m\n\u001b[1;32m     58\u001b[0m     \u001b[0;32melif\u001b[0m \u001b[0mX\u001b[0m\u001b[0;34m.\u001b[0m\u001b[0mdtype\u001b[0m \u001b[0;34m==\u001b[0m \u001b[0mnp\u001b[0m\u001b[0;34m.\u001b[0m\u001b[0mdtype\u001b[0m\u001b[0;34m(\u001b[0m\u001b[0;34m'object'\u001b[0m\u001b[0;34m)\u001b[0m \u001b[0;32mand\u001b[0m \u001b[0;32mnot\u001b[0m \u001b[0mallow_nan\u001b[0m\u001b[0;34m:\u001b[0m\u001b[0;34m\u001b[0m\u001b[0;34m\u001b[0m\u001b[0m\n",
            "\u001b[0;31mValueError\u001b[0m: Input contains NaN, infinity or a value too large for dtype('float64')."
          ]
        }
      ]
    },
    {
      "cell_type": "code",
      "metadata": {
        "id": "UsPCsK3hegGl",
        "colab_type": "code",
        "outputId": "c9fa6f27-c8fd-4adf-9ae4-7b581c94e0c4",
        "colab": {
          "base_uri": "https://localhost:8080/",
          "height": 488
        }
      },
      "source": [
        "#Plot the clusters obtained using Agglomerative clustering or Hierarchical clustering\n",
        "fig = plt.figure()\n",
        "ax = fig.add_subplot(111)\n",
        "scatter = ax.scatter(wh1['速度'],wh1['前車量1'],\n",
        "                     c=agglomerative[0],s=50)\n",
        "ax.set_title('Agglomerative Clustering')\n",
        "ax.set_xlabel('速度')\n",
        "ax.set_ylabel('前車量1')\n",
        "plt.colorbar(scatter)"
      ],
      "execution_count": 0,
      "outputs": [
        {
          "output_type": "error",
          "ename": "NameError",
          "evalue": "ignored",
          "traceback": [
            "\u001b[0;31m---------------------------------------------------------------------------\u001b[0m",
            "\u001b[0;31mNameError\u001b[0m                                 Traceback (most recent call last)",
            "\u001b[0;32m<ipython-input-51-9db5e2299a14>\u001b[0m in \u001b[0;36m<module>\u001b[0;34m()\u001b[0m\n\u001b[1;32m      2\u001b[0m \u001b[0max\u001b[0m \u001b[0;34m=\u001b[0m \u001b[0mfig\u001b[0m\u001b[0;34m.\u001b[0m\u001b[0madd_subplot\u001b[0m\u001b[0;34m(\u001b[0m\u001b[0;36m111\u001b[0m\u001b[0;34m)\u001b[0m\u001b[0;34m\u001b[0m\u001b[0;34m\u001b[0m\u001b[0m\n\u001b[1;32m      3\u001b[0m scatter = ax.scatter(wh1['速度'],wh1['前車量1'],\n\u001b[0;32m----> 4\u001b[0;31m                      c=agglomerative[0],s=50)\n\u001b[0m\u001b[1;32m      5\u001b[0m \u001b[0max\u001b[0m\u001b[0;34m.\u001b[0m\u001b[0mset_title\u001b[0m\u001b[0;34m(\u001b[0m\u001b[0;34m'Agglomerative Clustering'\u001b[0m\u001b[0;34m)\u001b[0m\u001b[0;34m\u001b[0m\u001b[0;34m\u001b[0m\u001b[0m\n\u001b[1;32m      6\u001b[0m \u001b[0max\u001b[0m\u001b[0;34m.\u001b[0m\u001b[0mset_xlabel\u001b[0m\u001b[0;34m(\u001b[0m\u001b[0;34m'速度'\u001b[0m\u001b[0;34m)\u001b[0m\u001b[0;34m\u001b[0m\u001b[0;34m\u001b[0m\u001b[0m\n",
            "\u001b[0;31mNameError\u001b[0m: name 'agglomerative' is not defined"
          ]
        },
        {
          "output_type": "display_data",
          "data": {
            "image/png": "[encoded data removed]",
            "text/plain": [
              "<Figure size 432x288 with 1 Axes>"
            ]
          },
          "metadata": {
            "tags": []
          }
        }
      ]
    },
    {
      "cell_type": "code",
      "metadata": {
        "id": "dUxC_vzqem-V",
        "colab_type": "code",
        "colab": {}
      },
      "source": [
        "import matplotlib as mpl\n",
        "mpl.rcParams['font.sans-serif'] = ['SimHei']\n",
        "mpl.rcParams['font.serif'] = ['SimHei']\n",
        "import seaborn as sns\n",
        "sns.set_style(\"darkgrid\",{\"font.sans-serif\":['simhei', 'Arial']})\n",
        "\n",
        "\n",
        "\n",
        "[('上海', 285), ('杭州', 225), ('北京', 163), ('广州', 136), ('南京', 130), ('武汉', 124), ('深圳', 88), ('温州', 67), ('苏州', 66), ('宁波', 45)]"
      ],
      "execution_count": 0,
      "outputs": []
    }
  ]
}